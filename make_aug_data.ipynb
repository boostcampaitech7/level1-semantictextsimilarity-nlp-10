{
 "cells": [
  {
   "cell_type": "code",
   "execution_count": 1,
   "metadata": {},
   "outputs": [],
   "source": [
    "import pandas as pd\n",
    "from googletrans import Translator\n",
    "from tqdm import tqdm\n",
    "import re\n",
    "\n",
    "def cleaning_text(text):\n",
    "    cleaned_text = re.sub(r'[ㅋ-ㅎ]+', '', text)\n",
    "    return cleaned_text\n",
    "\n",
    "def back_translate(text, src_lang='ko', intermediate_lang='en'):\n",
    "    translator = Translator()\n",
    "    \n",
    "    # 원본 텍스트를 intermediate_lang으로 번역\n",
    "    translated_text = translator.translate(text, src=src_lang, dest=intermediate_lang).text\n",
    "    \n",
    "    # intermediate_lang에서 원본 src_lang으로 번역\n",
    "    back_translated_text = translator.translate(translated_text, src=intermediate_lang, dest=src_lang).text\n",
    "    \n",
    "    return back_translated_text\n",
    "\n"
   ]
  },
  {
   "cell_type": "code",
   "execution_count": 2,
   "metadata": {},
   "outputs": [
    {
     "name": "stderr",
     "output_type": "stream",
     "text": [
      " 82%|████████▏ | 8141/9874 [5:17:03<1:33:42,  3.24s/it]"
     ]
    },
    {
     "name": "stdout",
     "output_type": "stream",
     "text": [
      "8140번째 인덱스에서 오류 발생.\n",
      "id              boostcamp-sts-v1-train-8140\n",
      "source                            slack-rtt\n",
      "sentence_1                         흐익 두근두근 \n",
      "sentence_2                                 \n",
      "label                                   0.8\n",
      "binary-label                            0.0\n",
      "Name: 8140, dtype: object\n"
     ]
    },
    {
     "name": "stderr",
     "output_type": "stream",
     "text": [
      "100%|██████████| 9874/9874 [7:10:37<00:00,  2.62s/it]  \n"
     ]
    }
   ],
   "source": [
    "df = pd.concat([pd.read_csv('/data/ephemeral/home/data/train.csv'), pd.read_csv('/data/ephemeral/home/data/dev.csv')])\n",
    "df[['sentence_1', 'sentence_2']] = df[['sentence_1', 'sentence_2']].map(cleaning_text)\n",
    "\n",
    "s_1 = []\n",
    "s_2 = []\n",
    "labels = []\n",
    "\n",
    "for idx in tqdm(range(len(df))):\n",
    "    try:\n",
    "        sentence_1 = back_translate(df.iloc[idx]['sentence_1'])\n",
    "        sentence_2 = back_translate(df.iloc[idx]['sentence_2'])\n",
    "        s_1.append(sentence_1)\n",
    "        s_2.append(sentence_2)\n",
    "        labels.append(df.iloc[idx]['label'])\n",
    "    except:\n",
    "        print(f'{idx}번째 인덱스에서 오류 발생.')\n",
    "        print(df.iloc[idx])\n",
    "\n",
    "aug_data = pd.DataFrame({'sentence_1' : s_1, 'sentence_2' : s_2, 'label' : labels})\n",
    "aug_data.to_csv('aug_data.csv')"
   ]
  },
  {
   "cell_type": "code",
   "execution_count": 16,
   "metadata": {},
   "outputs": [
    {
     "data": {
      "text/plain": [
       "0      국민의 뜻입니다!!!!!!!!!!!!!!!!!!!!!!!!!!!!!!!!!!!!!!!!\n",
       "1                             왠만하면 이런거 안적는데.. 진짜 재미없다..\n",
       "2                                            나라가 행복해질까?\n",
       "3                                         보시고 후회하진 마세요.\n",
       "4                                      흠.. 앞으로도 그럴때마다..\n",
       "5                         시대가 바뀌어도 빛을 발하는 그의 연기... 대단 !\n",
       "6                             아. 이게5분마다 크론인데 이거랑 겹치는 균요\n",
       "7     시장경제질서와 수협경제를 교란시키는 해양수산부의 불합리한 행정으로 소규모 쇼핑몰들이...\n",
       "8                                           북 김영철 방남 반대\n",
       "9                     책상은 다음 주 중, 의자는 6월 초에 설치될 예정입니다.)\n",
       "10                                       성장영화로 봐도 괜찮겠다.\n",
       "11                                     이거 진짜 역대 최고 캬.ㅎㅎ\n",
       "12                                       청소년 성추행 가해자 처벌\n",
       "13                              미세먼지 대책으로 공기청정탑 설치합시다!!\n",
       "14    살인, 성폭력 등 타인의 인권을 침해하는 행위에 대한 처벌을 연령에 관계없이 높여주세요.\n",
       "15                                        좋은 프로 감사합니다 ㅎ\n",
       "16            관심 있으신 분들은 dm 주시거나 쓰레드에 댓글 달아주시면 감사하겠습니다!\n",
       "17    알고보니 같은 동네 출신이라 제가 사는 곳 이야기도 하고, 조용하고 살기 좋은 동천...\n",
       "18                    왜 이런 것들이 인기가 있는지 분석해보아도 좋을것 같습니다.\n",
       "19    보는 사람도 완전 우울하고 속상하지만, 이 영화들을 만든 감독님들과 배우들의 마음이...\n",
       "Name: sentence_2, dtype: object"
      ]
     },
     "execution_count": 16,
     "metadata": {},
     "output_type": "execute_result"
    }
   ],
   "source": [
    "import pandas as pd\n",
    "import os\n",
    "df = pd.read_csv('/data/ephemeral/home/moruka/sample.csv')\n",
    "df['sentence_2'].head(20)"
   ]
  }
 ],
 "metadata": {
  "kernelspec": {
   "display_name": "base",
   "language": "python",
   "name": "python3"
  },
  "language_info": {
   "codemirror_mode": {
    "name": "ipython",
    "version": 3
   },
   "file_extension": ".py",
   "mimetype": "text/x-python",
   "name": "python",
   "nbconvert_exporter": "python",
   "pygments_lexer": "ipython3",
   "version": "3.10.13"
  }
 },
 "nbformat": 4,
 "nbformat_minor": 2
}
