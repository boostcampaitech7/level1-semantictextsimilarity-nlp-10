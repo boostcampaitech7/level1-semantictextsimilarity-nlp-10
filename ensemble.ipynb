{
 "cells": [
  {
   "cell_type": "code",
   "execution_count": 1,
   "metadata": {},
   "outputs": [],
   "source": [
    "import pandas as pd\n",
    "from glob import glob\n",
    "import os\n",
    "\n",
    "model_list = ['klue/roberta-small',\n",
    "              'klue/roberta-base',\n",
    "              'snunlp/KR-SBERT-Medium-extended-klueNLItriplet_PARpair_QApair-klueSTS',\n",
    "              'snunlp/KR-SBERT-Medium-klueNLItriplet_PARpair-klueSTS',\n",
    "              'klue/bert-base',\n",
    "              'sentence-transformers/paraphrase-multilingual-MiniLM-L12-v2',\n",
    "              'Alibaba-NLP/gte-multilingual-base',\n",
    "              ]\n",
    "\n",
    "preds = {}\n",
    "ids = []\n",
    "for name in model_list:\n",
    "    name = name.split('/')[-1]\n",
    "    path = os.getcwd() + f'/{name}.csv'\n",
    "    d = pd.read_csv(path)\n",
    "    if len(ids) == 0:\n",
    "        ids = d['id']\n",
    "    preds[name] = d['target']\n",
    "\n",
    "    "
   ]
  },
  {
   "cell_type": "code",
   "execution_count": 2,
   "metadata": {},
   "outputs": [],
   "source": [
    "def softvoting(preds, ids):\n",
    "    prediction = 0\n",
    "    for name in preds:\n",
    "        prediction += preds[name] \n",
    "    prediction = prediction / len(preds)\n",
    "    df = pd.DataFrame({'id' : ids, 'target' : prediction.round(2)})\n",
    "    df.to_csv('softvoting.csv')\n",
    "    print('done.')\n",
    "\n"
   ]
  },
  {
   "cell_type": "code",
   "execution_count": null,
   "metadata": {},
   "outputs": [],
   "source": [
    "softvoting(preds, id)"
   ]
  },
  {
   "cell_type": "code",
   "execution_count": null,
   "metadata": {},
   "outputs": [],
   "source": []
  }
 ],
 "metadata": {
  "kernelspec": {
   "display_name": "base",
   "language": "python",
   "name": "python3"
  },
  "language_info": {
   "codemirror_mode": {
    "name": "ipython",
    "version": 3
   },
   "file_extension": ".py",
   "mimetype": "text/x-python",
   "name": "python",
   "nbconvert_exporter": "python",
   "pygments_lexer": "ipython3",
   "version": "3.10.13"
  }
 },
 "nbformat": 4,
 "nbformat_minor": 2
}
